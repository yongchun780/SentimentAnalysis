{
 "cells": [
  {
   "cell_type": "code",
   "execution_count": 1,
   "id": "c518831c",
   "metadata": {},
   "outputs": [],
   "source": [
    "# Challenge 2: Sentiment Analysis Tool\n",
    "# This notebook demonstrates the creation of a simple sentiment analysis tool using the NLTK library in Python. \n",
    "# We will use the VADER (Valence Aware Dictionary and sEntiment Reasoner) sentiment analysis tool to analyze the sentiment of different text samples."
   ]
  },
  {
   "cell_type": "code",
   "execution_count": 2,
   "id": "d3935193",
   "metadata": {},
   "outputs": [
    {
     "name": "stdout",
     "output_type": "stream",
     "text": [
      "Requirement already satisfied: nltk in /Users/yongchunchen/opt/anaconda3/lib/python3.8/site-packages (3.4.5)\n",
      "Requirement already satisfied: six in /Users/yongchunchen/opt/anaconda3/lib/python3.8/site-packages (from nltk) (1.14.0)\n",
      "\n",
      "\u001b[1m[\u001b[0m\u001b[34;49mnotice\u001b[0m\u001b[1;39;49m]\u001b[0m\u001b[39;49m A new release of pip available: \u001b[0m\u001b[31;49m22.3.1\u001b[0m\u001b[39;49m -> \u001b[0m\u001b[32;49m24.0\u001b[0m\n",
      "\u001b[1m[\u001b[0m\u001b[34;49mnotice\u001b[0m\u001b[1;39;49m]\u001b[0m\u001b[39;49m To update, run: \u001b[0m\u001b[32;49mpip install --upgrade pip\u001b[0m\n"
     ]
    }
   ],
   "source": [
    "# Install necessary packages\n",
    "!pip install nltk\n"
   ]
  },
  {
   "cell_type": "code",
   "execution_count": 3,
   "id": "8b31be00",
   "metadata": {},
   "outputs": [],
   "source": [
    "## Setup and Imports\n",
    "# Before we start analyzing sentiment, we need to import necessary libraries and download the VADER lexicon.\n"
   ]
  },
  {
   "cell_type": "code",
   "execution_count": 4,
   "id": "dfdb0611",
   "metadata": {},
   "outputs": [
    {
     "name": "stderr",
     "output_type": "stream",
     "text": [
      "[nltk_data] Downloading package vader_lexicon to\n",
      "[nltk_data]     /Users/yongchunchen/nltk_data...\n",
      "[nltk_data]   Package vader_lexicon is already up-to-date!\n"
     ]
    },
    {
     "data": {
      "text/plain": [
       "True"
      ]
     },
     "execution_count": 4,
     "metadata": {},
     "output_type": "execute_result"
    }
   ],
   "source": [
    "import nltk\n",
    "from nltk.sentiment import SentimentIntensityAnalyzer\n",
    "\n",
    "# Download the VADER lexicon\n",
    "nltk.download('vader_lexicon')\n"
   ]
  },
  {
   "cell_type": "code",
   "execution_count": 5,
   "id": "6af9b7f3",
   "metadata": {},
   "outputs": [],
   "source": [
    "## Sentiment Analysis Function\n",
    "# We will now define a function that uses the VADER sentiment analyzer to determine whether a piece of text has a positive, negative, or neutral sentiment.\n"
   ]
  },
  {
   "cell_type": "code",
   "execution_count": 6,
   "id": "bf262fb6",
   "metadata": {},
   "outputs": [],
   "source": [
    "def analyze_sentiment(text):\n",
    "    # Initialize the VADER sentiment intensity analyzer\n",
    "    sia = SentimentIntensityAnalyzer()\n",
    "\n",
    "    # Analyze the sentiment of the text\n",
    "    sentiment_score = sia.polarity_scores(text)\n",
    "\n",
    "    # Determine the sentiment category\n",
    "    if sentiment_score['compound'] >= 0.05:\n",
    "        return 'Positive'\n",
    "    elif sentiment_score['compound'] <= -0.05:\n",
    "        return 'Negative'\n",
    "    else:\n",
    "        return 'Neutral'\n"
   ]
  },
  {
   "cell_type": "code",
   "execution_count": 7,
   "id": "4f13943f",
   "metadata": {},
   "outputs": [],
   "source": [
    "## Testing the Sentiment Analysis Tool\n",
    "# Let's test our sentiment analysis tool on a variety of text samples to evaluate its performance.\n"
   ]
  },
  {
   "cell_type": "code",
   "execution_count": 8,
   "id": "736b9f11",
   "metadata": {},
   "outputs": [
    {
     "name": "stdout",
     "output_type": "stream",
     "text": [
      "Text: 'This is the best day of my life!'\n",
      "Sentiment: Positive\n",
      "\n",
      "Text: 'I'm not sure how I feel about this.'\n",
      "Sentiment: Negative\n",
      "\n",
      "Text: 'This is a terrible mistake.'\n",
      "Sentiment: Negative\n",
      "\n"
     ]
    }
   ],
   "source": [
    "# Test samples\n",
    "test_texts = [\n",
    "    \"This is the best day of my life!\",\n",
    "    \"I'm not sure how I feel about this.\",\n",
    "    \"This is a terrible mistake.\"\n",
    "]\n",
    "\n",
    "# Analyze and print sentiments of test samples\n",
    "for text in test_texts:\n",
    "    print(f\"Text: '{text}'\\nSentiment: {analyze_sentiment(text)}\\n\")\n"
   ]
  },
  {
   "cell_type": "code",
   "execution_count": null,
   "id": "1cf9c8f3",
   "metadata": {},
   "outputs": [],
   "source": []
  }
 ],
 "metadata": {
  "kernelspec": {
   "display_name": "Python 3",
   "language": "python",
   "name": "python3"
  },
  "language_info": {
   "codemirror_mode": {
    "name": "ipython",
    "version": 3
   },
   "file_extension": ".py",
   "mimetype": "text/x-python",
   "name": "python",
   "nbconvert_exporter": "python",
   "pygments_lexer": "ipython3",
   "version": "3.8.8"
  }
 },
 "nbformat": 4,
 "nbformat_minor": 5
}
